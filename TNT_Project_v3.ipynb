{
  "nbformat": 4,
  "nbformat_minor": 0,
  "metadata": {
    "colab": {
      "provenance": [],
      "authorship_tag": "ABX9TyPOghBgB5RvoDdkJOgtzG3Z",
      "include_colab_link": true
    },
    "kernelspec": {
      "name": "python3",
      "display_name": "Python 3"
    },
    "language_info": {
      "name": "python"
    }
  },
  "cells": [
    {
      "cell_type": "markdown",
      "metadata": {
        "id": "view-in-github",
        "colab_type": "text"
      },
      "source": [
        "<a href=\"https://colab.research.google.com/github/akutayaydin/Magnimind-6-Image-Processing/blob/main/TNT_Project_v3.ipynb\" target=\"_parent\"><img src=\"https://colab.research.google.com/assets/colab-badge.svg\" alt=\"Open In Colab\"/></a>"
      ]
    },
    {
      "cell_type": "code",
      "execution_count": 1,
      "metadata": {
        "id": "f9qv5Kj_oNre"
      },
      "outputs": [],
      "source": [
        "import matplotlib.pyplot as plt\n",
        "import numpy as np\n",
        "import pandas as pd\n",
        "import cv2\n",
        "import os\n",
        "from PIL import Image\n",
        "from skimage import io, filters\n",
        "import scipy.ndimage as ndi\n",
        "import sys\n",
        "import keras.utils as image\n",
        "from tensorflow.keras.utils import load_img\n",
        "from google.colab.patches import cv2_imshow"
      ]
    },
    {
      "cell_type": "code",
      "source": [
        "from google.colab import drive\n",
        "drive.mount('/content/gdrive')"
      ],
      "metadata": {
        "colab": {
          "base_uri": "https://localhost:8080/"
        },
        "id": "MLWKcnn8oRJ3",
        "outputId": "a5f3a38a-1e8a-4df1-8da0-7f3769bcd38d"
      },
      "execution_count": 2,
      "outputs": [
        {
          "output_type": "stream",
          "name": "stdout",
          "text": [
            "Mounted at /content/gdrive\n"
          ]
        }
      ]
    },
    {
      "cell_type": "code",
      "source": [
        "mypath='/content/gdrive/My Drive/Google Colab Folder/TNT_Project'\n",
        "print(os.listdir(mypath))"
      ],
      "metadata": {
        "colab": {
          "base_uri": "https://localhost:8080/"
        },
        "id": "kceIy6vDoTuZ",
        "outputId": "6f425a28-afd6-43fa-8cda-6be273fd491c"
      },
      "execution_count": 3,
      "outputs": [
        {
          "output_type": "stream",
          "name": "stdout",
          "text": [
            "['m05-label.png', 'm05.png']\n"
          ]
        }
      ]
    },
    {
      "cell_type": "code",
      "source": [
        "labeled_image = cv2.imread('/content/gdrive/My Drive/Google Colab Folder/TNT_Project/m05-label.png')\n"
      ],
      "metadata": {
        "id": "yLeULNbpoTrz"
      },
      "execution_count": 4,
      "outputs": []
    },
    {
      "cell_type": "code",
      "source": [
        "unlabeled_image = cv2.imread('/content/gdrive/My Drive/Google Colab Folder/TNT_Project/m05.png')"
      ],
      "metadata": {
        "id": "sxLEX134pjPl"
      },
      "execution_count": null,
      "outputs": []
    },
    {
      "cell_type": "code",
      "source": [
        "#cv2_imshow(labeled_image)\n",
        "#cv2_imshow(unlabeled_image)"
      ],
      "metadata": {
        "id": "rdhDlbjloTpB"
      },
      "execution_count": null,
      "outputs": []
    },
    {
      "cell_type": "code",
      "source": [
        "unlabeled_image.dtype"
      ],
      "metadata": {
        "id": "PYplQ_5NoTFk"
      },
      "execution_count": null,
      "outputs": []
    },
    {
      "cell_type": "code",
      "source": [
        "hist = ndi.histogram(unlabeled_image,min =0 , max =255, bins =256)\n",
        "hist.shape"
      ],
      "metadata": {
        "id": "fIYerrbpocc9"
      },
      "execution_count": null,
      "outputs": []
    },
    {
      "cell_type": "code",
      "source": [
        "plt.plot(hist)\n",
        "plt.show()"
      ],
      "metadata": {
        "id": "BkjzSHcCocaW"
      },
      "execution_count": null,
      "outputs": []
    },
    {
      "cell_type": "code",
      "source": [
        "#Equalization\n",
        "#cumsum = cumulative distribution function\n",
        "cdf = hist.cumsum() / hist.sum()\n",
        "cdf.shape"
      ],
      "metadata": {
        "id": "RO2Tsqg6ocYA"
      },
      "execution_count": null,
      "outputs": []
    },
    {
      "cell_type": "code",
      "source": [
        "im_equalized = cdf[unlabeled_image] * 255\n",
        "fig, axes = plt.subplots(2,1)\n",
        "#plot the histogram\n",
        "axes[0].imshow(unlabeled_image)\n",
        "axes[1].imshow(im_equalized)\n",
        "plt.show()"
      ],
      "metadata": {
        "id": "b2p5q9qtocVI"
      },
      "execution_count": null,
      "outputs": []
    },
    {
      "cell_type": "code",
      "source": [
        "#Add mask\n",
        "mask1 = unlabeled_image < 50"
      ],
      "metadata": {
        "id": "wbQhvOJOocSi"
      },
      "execution_count": null,
      "outputs": []
    },
    {
      "cell_type": "code",
      "source": [
        "im_cells = np.where (unlabeled_image > 50,unlabeled_image,0)"
      ],
      "metadata": {
        "id": "RXJKL0ulocP7"
      },
      "execution_count": null,
      "outputs": []
    },
    {
      "cell_type": "code",
      "source": [
        "plt.imshow(im_cells,cmap ='gray')"
      ],
      "metadata": {
        "id": "NfzGtkmiocNW"
      },
      "execution_count": null,
      "outputs": []
    },
    {
      "cell_type": "code",
      "source": [
        "#Tune the mask (data is noisy. so the mask will rarely perfect)\n",
        "#Dialation: To increase the size of the mask add pixels around the edges"
      ],
      "metadata": {
        "id": "HVPAC1uHon_s"
      },
      "execution_count": null,
      "outputs": []
    },
    {
      "cell_type": "code",
      "source": [],
      "metadata": {
        "id": "I-lslEtton9n"
      },
      "execution_count": null,
      "outputs": []
    },
    {
      "cell_type": "code",
      "source": [],
      "metadata": {
        "id": "ZXLQR4e7on6v"
      },
      "execution_count": null,
      "outputs": []
    },
    {
      "cell_type": "code",
      "source": [],
      "metadata": {
        "id": "WXSJbsmJon4Z"
      },
      "execution_count": null,
      "outputs": []
    },
    {
      "cell_type": "code",
      "source": [],
      "metadata": {
        "id": "dIO8GeYaon1i"
      },
      "execution_count": null,
      "outputs": []
    },
    {
      "cell_type": "code",
      "source": [],
      "metadata": {
        "id": "i8pMysliony7"
      },
      "execution_count": null,
      "outputs": []
    },
    {
      "cell_type": "code",
      "source": [],
      "metadata": {
        "id": "tnIh20YponwE"
      },
      "execution_count": null,
      "outputs": []
    },
    {
      "cell_type": "code",
      "source": [],
      "metadata": {
        "id": "INqABuB3ontg"
      },
      "execution_count": null,
      "outputs": []
    }
  ]
}