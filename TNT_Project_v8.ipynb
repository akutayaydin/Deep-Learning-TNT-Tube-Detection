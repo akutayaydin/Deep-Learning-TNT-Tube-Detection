{
  "nbformat": 4,
  "nbformat_minor": 0,
  "metadata": {
    "colab": {
      "provenance": [],
      "authorship_tag": "ABX9TyOyIb3wcBKqKPYolvGrKw+g",
      "include_colab_link": true
    },
    "kernelspec": {
      "name": "python3",
      "display_name": "Python 3"
    },
    "language_info": {
      "name": "python"
    }
  },
  "cells": [
    {
      "cell_type": "markdown",
      "metadata": {
        "id": "view-in-github",
        "colab_type": "text"
      },
      "source": [
        "<a href=\"https://colab.research.google.com/github/akutayaydin/Magnimind-6-Image-Processing/blob/main/TNT_Project_v8.ipynb\" target=\"_parent\"><img src=\"https://colab.research.google.com/assets/colab-badge.svg\" alt=\"Open In Colab\"/></a>"
      ]
    },
    {
      "cell_type": "code",
      "execution_count": 2,
      "metadata": {
        "id": "f9qv5Kj_oNre"
      },
      "outputs": [],
      "source": [
        "import matplotlib.pyplot as plt\n",
        "import numpy as np\n",
        "import pandas as pd\n",
        "import cv2\n",
        "import os\n",
        "from PIL import Image\n",
        "from skimage import io, filters\n",
        "import scipy.ndimage as ndi\n",
        "import sys\n",
        "import keras.utils as image\n",
        "from tensorflow.keras.utils import load_img\n",
        "from google.colab.patches import cv2_imshow"
      ]
    },
    {
      "cell_type": "code",
      "source": [
        "from google.colab import drive\n",
        "drive.mount('/content/gdrive')"
      ],
      "metadata": {
        "colab": {
          "base_uri": "https://localhost:8080/"
        },
        "id": "MLWKcnn8oRJ3",
        "outputId": "a42943fe-2358-481e-9336-a4c6f6f439e6"
      },
      "execution_count": 3,
      "outputs": [
        {
          "output_type": "stream",
          "name": "stdout",
          "text": [
            "Mounted at /content/gdrive\n"
          ]
        }
      ]
    },
    {
      "cell_type": "code",
      "source": [
        "unlabeled_image = cv2.imread('/content/gdrive/My Drive/Google Colab Folder/TNT_Project/m05.png')\n",
        "#unlabeled_image.dtype"
      ],
      "metadata": {
        "id": "sxLEX134pjPl"
      },
      "execution_count": null,
      "outputs": []
    },
    {
      "cell_type": "code",
      "source": [
        "#Apply Filters"
      ],
      "metadata": {
        "id": "ZXLQR4e7on6v"
      },
      "execution_count": null,
      "outputs": []
    },
    {
      "cell_type": "code",
      "source": [
        "#Rolling Ball Algorithm : to remove uneven backgrounds or smooth the intensity variations in an image\n",
        "# where the image may have uneven lighting or background artifacts"
      ],
      "metadata": {
        "id": "ZpaaOV7KuyUU"
      },
      "execution_count": null,
      "outputs": []
    },
    {
      "cell_type": "code",
      "source": [
        "import cv2\n",
        "import numpy as np\n",
        "\n",
        "def background_and_shading_correction(image, ball_radius):\n",
        "    # Convert the image to grayscale, rolling ball algorithm is usually applied to grayscale images.\n",
        "    gray_image = cv2.cvtColor(image, cv2.COLOR_BGR2GRAY)\n",
        "\n",
        "    # Apply the rolling ball algorithm for background correction\n",
        "    #The kernel_size is set to be twice the ball_radius plus one.\n",
        "    #The \"+1\" ensures that the kernel has an odd size, which is a requirement for morphological operations.\n",
        "    kernel_size = ball_radius * 2 + 1\n",
        "    background_corrected = cv2.morphologyEx(gray_image, cv2.MORPH_TOPHAT, cv2.getStructuringElement(cv2.MORPH_ELLIPSE, (kernel_size, kernel_size)))\n",
        "\n",
        "    # Perform shading correction by subtracting the background corrected image from the original image\n",
        "    shading_corrected = cv2.subtract(gray_image, background_corrected)\n",
        "\n",
        "    # Convert the shading corrected image back to color (optional)\n",
        "    shading_corrected_color = cv2.cvtColor(shading_corrected, cv2.COLOR_GRAY2BGR)\n",
        "\n",
        "    # Combine the shading-corrected image with the original image to get the final result\n",
        "    result_image = cv2.addWeighted(image, 1, shading_corrected_color, 0.7, 0)\n",
        "\n",
        "    return result_image\n",
        "\n",
        "# Load your input image\n",
        "input_image = cv2.imread(\"/content/gdrive/My Drive/Google Colab Folder/TNT_Project/m05.png\")\n",
        "\n",
        "# Set the radius for the rolling ball algorithm (adjust as needed)\n",
        "ball_radius = 50\n",
        "\n",
        "# Perform background and shading correction\n",
        "output_image = background_and_shading_correction(input_image, ball_radius)\n",
        "\n",
        "# Save the processed image (replace \"output_image.jpg\" with the desired output path)\n",
        "cv2.imwrite(\"/content/gdrive/My Drive/Google Colab Folder/TNT_Project/output_image_rolling_ball_50.png\", output_image)\n",
        "\n"
      ],
      "metadata": {
        "colab": {
          "base_uri": "https://localhost:8080/"
        },
        "id": "WXSJbsmJon4Z",
        "outputId": "c12561cc-013a-4c6d-b6e9-c18d47b231d0"
      },
      "execution_count": null,
      "outputs": [
        {
          "output_type": "execute_result",
          "data": {
            "text/plain": [
              "True"
            ]
          },
          "metadata": {},
          "execution_count": 24
        }
      ]
    },
    {
      "cell_type": "code",
      "source": [
        "import cv2\n",
        "\n",
        "def background_and_shading_correction(image, sigma):\n",
        "    # Convert the image to grayscale\n",
        "    gray_image = cv2.cvtColor(image, cv2.COLOR_BGR2GRAY)\n",
        "\n",
        "    # Apply the Gaussian filter for background correction\n",
        "    background_corrected = cv2.GaussianBlur(gray_image, (0, 0), sigmaX=sigma, sigmaY=sigma)\n",
        "\n",
        "    # Perform shading correction by subtracting the background corrected image from the original image\n",
        "    shading_corrected = cv2.subtract(gray_image, background_corrected)\n",
        "\n",
        "    # Convert the shading corrected image back to color (optional)\n",
        "    shading_corrected_color = cv2.cvtColor(shading_corrected, cv2.COLOR_GRAY2BGR)\n",
        "\n",
        "    # Combine the shading-corrected image with the original image to get the final result\n",
        "    result_image = cv2.addWeighted(image, 1, shading_corrected_color, 0.7, 0)\n",
        "\n",
        "    return result_image\n",
        "\n",
        "\n",
        "# Load input image\n",
        "input_image = cv2.imread(\"/content/gdrive/My Drive/Google Colab Folder/TNT_Project/m05.png\")\n",
        "\n",
        "# Set the sigma value for the Gaussian filter (adjust as needed)\n",
        "sigma = 3\n",
        "\n",
        "# Perform background and shading correction\n",
        "output_image = background_and_shading_correction(input_image, sigma)\n",
        "\n",
        "# Save the processed image (replace \"output_image.jpg\" with the desired output path)\n",
        "cv2.imwrite(\"/content/gdrive/My Drive/Google Colab Folder/TNT_Project/output_image_gaussian.png\", output_image)\n"
      ],
      "metadata": {
        "colab": {
          "base_uri": "https://localhost:8080/"
        },
        "id": "IbJlGas9CS6w",
        "outputId": "d02fbbe5-9323-4b9e-f604-c94723aa199f"
      },
      "execution_count": null,
      "outputs": [
        {
          "output_type": "execute_result",
          "data": {
            "text/plain": [
              "True"
            ]
          },
          "metadata": {},
          "execution_count": 36
        }
      ]
    },
    {
      "cell_type": "code",
      "source": [
        "#Step 1:Read and Slice the Preprocessed Image\n",
        "#Step 1.1: Slice the unlabel image in the steps of region size"
      ],
      "metadata": {
        "id": "y_RHU-FXWrTH"
      },
      "execution_count": 24,
      "outputs": []
    },
    {
      "cell_type": "code",
      "source": [
        "img_preprocessed = cv2.imread(\"/content/gdrive/My Drive/Google Colab Folder/TNT_Project/output_image_rolling_ball_50.png\")\n",
        "\n",
        "#Set the region size\n",
        "region_size = 512\n",
        "\n",
        "#Get the dimensions of the image\n",
        "height, width, channels = img_preprocessed.shape\n",
        "\n",
        "#Iterate through the image in the steps of region_size\n",
        "for y in range(0,height,region_size):\n",
        "  for x in range (0,width,region_size):\n",
        "    #Extract the region\n",
        "    region = img_preprocessed[y:y+region_size,x:x+region_size]\n",
        "\n",
        "    #Label the image based on the coordinates\n",
        "    image_name = 'IMG' + '_'+ str(y) + '_' + str(x)\n",
        "\n",
        "    #Create the image\n",
        "    cv2.imwrite(\"/content/gdrive/My Drive/Google Colab Folder/TNT_Project/sliced_unlabeled_images/\" + image_name + \".png\", region)"
      ],
      "metadata": {
        "id": "bF53OolYV2cC"
      },
      "execution_count": 100,
      "outputs": []
    },
    {
      "cell_type": "code",
      "source": [
        "#Step 1.2: Slice the labeled image in the steps of region_size"
      ],
      "metadata": {
        "id": "tt6KPaiB6mAF"
      },
      "execution_count": null,
      "outputs": []
    },
    {
      "cell_type": "code",
      "source": [
        "img_labeled =  cv2.imread(\"/content/gdrive/My Drive/Google Colab Folder/TNT_Project/m05-label.png\")\n",
        "\n",
        "#Set the region size\n",
        "region_size =512\n",
        "\n",
        "for y in range(0,height,region_size):\n",
        "  for x in range(0,width,region_size):\n",
        "    #Extract the region\n",
        "    region = img_labeled[y:y+region_size,x:x+region_size]\n",
        "\n",
        "    #label the image based on the coordinates\n",
        "    image_name = 'IMG' + '_' + str(y) + '_' + str(x)\n",
        "\n",
        "    #Create and save the image file\n",
        "    cv2.imwrite(\"/content/gdrive/My Drive/Google Colab Folder/TNT_Project/sliced_labeled_images/\" + image_name + \".png\", region)\n"
      ],
      "metadata": {
        "id": "VqXJ5FP36l9P"
      },
      "execution_count": 101,
      "outputs": []
    },
    {
      "cell_type": "code",
      "source": [
        "#Step 2: Identify if there is tnt tube (yellow pixel) on the labeled image and update file name"
      ],
      "metadata": {
        "id": "INqABuB3ontg"
      },
      "execution_count": 47,
      "outputs": []
    },
    {
      "cell_type": "code",
      "source": [
        "folder_path = '/content/gdrive/My Drive/Google Colab Folder/TNT_Project/sliced_labeled_images/'\n",
        "folder_path_unlabeled = '/content/gdrive/My Drive/Google Colab Folder/TNT_Project/sliced_unlabeled_images/'\n",
        "\n",
        "lower_bound = np.array([0,100,100])  #lower bound BGR values for color\n",
        "upper_bound = np.array([50,255,255]) #upper bound BGR values for color\n",
        "\n",
        "#list all file names and create a mask for the target color\n",
        "for f in os.listdir(folder_path):\n",
        "  img_labeled_file = cv2.imread(folder_path +f)\n",
        "  tnt_mask = cv2.inRange(img_labeled_file,lower_bound,upper_bound)\n",
        "\n",
        "  # Count the number of color pixels\n",
        "  color_pixel_count = cv2.countNonZero(tnt_mask)\n",
        "\n",
        "  if color_pixel_count == 0 and '_tnt_0.png' not in f:\n",
        "    #rename file name\n",
        "    f_new = f.replace ('.png','_tnt_0.png')\n",
        "    os.rename (folder_path + f,folder_path + f_new)\n",
        "    os.rename (folder_path_unlabeled + f,folder_path_unlabeled + f_new)\n",
        "    folder_path_unlabeled\n",
        "  elif color_pixel_count > 0 and '_tnt_1.png' not in f:\n",
        "    #rename file name\n",
        "    f_new = f.replace ('.png','_tnt_1.png')\n",
        "    os.rename (folder_path + f,folder_path + f_new)\n",
        "    os.rename (folder_path_unlabeled + f,folder_path_unlabeled + f_new)"
      ],
      "metadata": {
        "id": "DPhZS6cnmAny"
      },
      "execution_count": 103,
      "outputs": []
    },
    {
      "cell_type": "code",
      "source": [],
      "metadata": {
        "id": "_ZERFpSqpAmh"
      },
      "execution_count": 60,
      "outputs": []
    },
    {
      "cell_type": "code",
      "source": [],
      "metadata": {
        "id": "FYL5lQCTt12q"
      },
      "execution_count": 61,
      "outputs": []
    },
    {
      "cell_type": "code",
      "source": [],
      "metadata": {
        "id": "uM5k2ffeuY_X"
      },
      "execution_count": 62,
      "outputs": []
    },
    {
      "cell_type": "code",
      "source": [
        "color_pixel_count"
      ],
      "metadata": {
        "colab": {
          "base_uri": "https://localhost:8080/"
        },
        "id": "PpMRMQyLuZtM",
        "outputId": "117a5b65-6090-4132-ed9d-3ca897690c38"
      },
      "execution_count": 63,
      "outputs": [
        {
          "output_type": "execute_result",
          "data": {
            "text/plain": [
              "0"
            ]
          },
          "metadata": {},
          "execution_count": 63
        }
      ]
    },
    {
      "cell_type": "code",
      "source": [],
      "metadata": {
        "id": "PnVPXwDzu4PQ"
      },
      "execution_count": null,
      "outputs": []
    }
  ]
}