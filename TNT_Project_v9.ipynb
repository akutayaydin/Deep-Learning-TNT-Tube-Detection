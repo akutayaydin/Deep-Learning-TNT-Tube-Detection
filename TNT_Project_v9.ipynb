{
  "nbformat": 4,
  "nbformat_minor": 0,
  "metadata": {
    "colab": {
      "provenance": [],
      "authorship_tag": "ABX9TyMy+nnscCxmG+6ji/PaLw0A",
      "include_colab_link": true
    },
    "kernelspec": {
      "name": "python3",
      "display_name": "Python 3"
    },
    "language_info": {
      "name": "python"
    }
  },
  "cells": [
    {
      "cell_type": "markdown",
      "metadata": {
        "id": "view-in-github",
        "colab_type": "text"
      },
      "source": [
        "<a href=\"https://colab.research.google.com/github/akutayaydin/Magnimind-6-Image-Processing/blob/main/TNT_Project_v9.ipynb\" target=\"_parent\"><img src=\"https://colab.research.google.com/assets/colab-badge.svg\" alt=\"Open In Colab\"/></a>"
      ]
    },
    {
      "cell_type": "code",
      "execution_count": 1,
      "metadata": {
        "id": "f9qv5Kj_oNre"
      },
      "outputs": [],
      "source": [
        "import matplotlib.pyplot as plt\n",
        "import numpy as np\n",
        "import pandas as pd\n",
        "import cv2\n",
        "import os\n",
        "from PIL import Image\n",
        "from skimage import io, filters\n",
        "import scipy.ndimage as ndi\n",
        "import sys\n",
        "import keras.utils as image\n",
        "from tensorflow.keras.utils import load_img\n",
        "from google.colab.patches import cv2_imshow"
      ]
    },
    {
      "cell_type": "code",
      "source": [
        "from google.colab import drive\n",
        "drive.mount('/content/gdrive')"
      ],
      "metadata": {
        "colab": {
          "base_uri": "https://localhost:8080/"
        },
        "id": "MLWKcnn8oRJ3",
        "outputId": "835efcab-f848-41c7-a749-44e9e852799c"
      },
      "execution_count": 2,
      "outputs": [
        {
          "output_type": "stream",
          "name": "stdout",
          "text": [
            "Mounted at /content/gdrive\n"
          ]
        }
      ]
    },
    {
      "cell_type": "code",
      "source": [
        "unlabeled_image = cv2.imread('/content/gdrive/My Drive/Google Colab Folder/TNT_Project/m05.png')\n",
        "#unlabeled_image.dtype"
      ],
      "metadata": {
        "id": "sxLEX134pjPl"
      },
      "execution_count": 3,
      "outputs": []
    },
    {
      "cell_type": "code",
      "source": [
        "#Apply Filters"
      ],
      "metadata": {
        "id": "ZXLQR4e7on6v"
      },
      "execution_count": 4,
      "outputs": []
    },
    {
      "cell_type": "code",
      "source": [
        "#Rolling Ball Algorithm : to remove uneven backgrounds or smooth the intensity variations in an image\n",
        "# where the image may have uneven lighting or background artifacts"
      ],
      "metadata": {
        "id": "ZpaaOV7KuyUU"
      },
      "execution_count": 5,
      "outputs": []
    },
    {
      "cell_type": "code",
      "source": [
        "import cv2\n",
        "import numpy as np\n",
        "\n",
        "def background_and_shading_correction(image, ball_radius):\n",
        "    # Convert the image to grayscale, rolling ball algorithm is usually applied to grayscale images.\n",
        "    gray_image = cv2.cvtColor(image, cv2.COLOR_BGR2GRAY)\n",
        "\n",
        "    # Apply the rolling ball algorithm for background correction\n",
        "    #The kernel_size is set to be twice the ball_radius plus one.\n",
        "    #The \"+1\" ensures that the kernel has an odd size, which is a requirement for morphological operations.\n",
        "    kernel_size = ball_radius * 2 + 1\n",
        "    background_corrected = cv2.morphologyEx(gray_image, cv2.MORPH_TOPHAT, cv2.getStructuringElement(cv2.MORPH_ELLIPSE, (kernel_size, kernel_size)))\n",
        "\n",
        "    # Perform shading correction by subtracting the background corrected image from the original image\n",
        "    shading_corrected = cv2.subtract(gray_image, background_corrected)\n",
        "\n",
        "    # Convert the shading corrected image back to color (optional)\n",
        "    shading_corrected_color = cv2.cvtColor(shading_corrected, cv2.COLOR_GRAY2BGR)\n",
        "\n",
        "    # Combine the shading-corrected image with the original image to get the final result\n",
        "    result_image = cv2.addWeighted(image, 1, shading_corrected_color, 0.7, 0)\n",
        "\n",
        "    return result_image\n",
        "\n",
        "# Load your input image\n",
        "input_image = cv2.imread(\"/content/gdrive/My Drive/Google Colab Folder/TNT_Project/m05.png\")\n",
        "\n",
        "# Set the radius for the rolling ball algorithm (adjust as needed)\n",
        "ball_radius = 50\n",
        "\n",
        "# Perform background and shading correction\n",
        "output_image = background_and_shading_correction(input_image, ball_radius)\n",
        "\n",
        "# Save the processed image (replace \"output_image.jpg\" with the desired output path)\n",
        "cv2.imwrite(\"/content/gdrive/My Drive/Google Colab Folder/TNT_Project/output_image_rolling_ball_50.png\", output_image)\n",
        "\n"
      ],
      "metadata": {
        "colab": {
          "base_uri": "https://localhost:8080/"
        },
        "id": "WXSJbsmJon4Z",
        "outputId": "994c3803-a522-4427-cb49-204dbbf1ac1f"
      },
      "execution_count": 6,
      "outputs": [
        {
          "output_type": "execute_result",
          "data": {
            "text/plain": [
              "True"
            ]
          },
          "metadata": {},
          "execution_count": 6
        }
      ]
    },
    {
      "cell_type": "code",
      "source": [
        "import cv2\n",
        "\n",
        "def background_and_shading_correction(image, sigma):\n",
        "    # Convert the image to grayscale\n",
        "    gray_image = cv2.cvtColor(image, cv2.COLOR_BGR2GRAY)\n",
        "\n",
        "    # Apply the Gaussian filter for background correction\n",
        "    background_corrected = cv2.GaussianBlur(gray_image, (0, 0), sigmaX=sigma, sigmaY=sigma)\n",
        "\n",
        "    # Perform shading correction by subtracting the background corrected image from the original image\n",
        "    shading_corrected = cv2.subtract(gray_image, background_corrected)\n",
        "\n",
        "    # Convert the shading corrected image back to color (optional)\n",
        "    shading_corrected_color = cv2.cvtColor(shading_corrected, cv2.COLOR_GRAY2BGR)\n",
        "\n",
        "    # Combine the shading-corrected image with the original image to get the final result\n",
        "    result_image = cv2.addWeighted(image, 1, shading_corrected_color, 0.7, 0)\n",
        "\n",
        "    return result_image\n",
        "\n",
        "\n",
        "# Load input image\n",
        "input_image = cv2.imread(\"/content/gdrive/My Drive/Google Colab Folder/TNT_Project/m05.png\")\n",
        "\n",
        "# Set the sigma value for the Gaussian filter (adjust as needed)\n",
        "sigma = 3\n",
        "\n",
        "# Perform background and shading correction\n",
        "output_image = background_and_shading_correction(input_image, sigma)\n",
        "\n",
        "# Save the processed image (replace \"output_image.jpg\" with the desired output path)\n",
        "cv2.imwrite(\"/content/gdrive/My Drive/Google Colab Folder/TNT_Project/output_image_gaussian.png\", output_image)\n"
      ],
      "metadata": {
        "colab": {
          "base_uri": "https://localhost:8080/"
        },
        "id": "IbJlGas9CS6w",
        "outputId": "73865d6e-564b-485e-c5c1-b2f80ec73848"
      },
      "execution_count": 7,
      "outputs": [
        {
          "output_type": "execute_result",
          "data": {
            "text/plain": [
              "True"
            ]
          },
          "metadata": {},
          "execution_count": 7
        }
      ]
    },
    {
      "cell_type": "code",
      "source": [
        "#Step 1:Read and Slice the Preprocessed Image\n",
        "#Step 1.1: Slice the unlabel image in the steps of region size"
      ],
      "metadata": {
        "id": "y_RHU-FXWrTH"
      },
      "execution_count": 8,
      "outputs": []
    },
    {
      "cell_type": "code",
      "source": [
        "img_preprocessed = cv2.imread(\"/content/gdrive/My Drive/Google Colab Folder/TNT_Project/output_image_rolling_ball_50.png\")\n",
        "\n",
        "#Set the region size\n",
        "region_size = 512\n",
        "\n",
        "#Get the dimensions of the image\n",
        "height, width, channels = img_preprocessed.shape\n",
        "\n",
        "#Iterate through the image in the steps of region_size\n",
        "for y in range(0,height,region_size):\n",
        "  for x in range (0,width,region_size):\n",
        "    #Extract the region\n",
        "    region = img_preprocessed[y:y+region_size,x:x+region_size]\n",
        "\n",
        "    #Label the image based on the coordinates\n",
        "    image_name = 'IMG' + '_'+ str(y) + '_' + str(x)\n",
        "\n",
        "    #Create the image\n",
        "    cv2.imwrite(\"/content/gdrive/My Drive/Google Colab Folder/TNT_Project/sliced_unlabeled_images/\" + image_name + \".png\", region)"
      ],
      "metadata": {
        "id": "bF53OolYV2cC"
      },
      "execution_count": 9,
      "outputs": []
    },
    {
      "cell_type": "code",
      "source": [
        "#Step 1.2: Slice the labeled image in the steps of region_size"
      ],
      "metadata": {
        "id": "tt6KPaiB6mAF"
      },
      "execution_count": 10,
      "outputs": []
    },
    {
      "cell_type": "code",
      "source": [
        "img_labeled =  cv2.imread(\"/content/gdrive/My Drive/Google Colab Folder/TNT_Project/m05-label.png\")\n",
        "\n",
        "#Set the region size\n",
        "region_size =512\n",
        "\n",
        "for y in range(0,height,region_size):\n",
        "  for x in range(0,width,region_size):\n",
        "    #Extract the region\n",
        "    region = img_labeled[y:y+region_size,x:x+region_size]\n",
        "\n",
        "    #label the image based on the coordinates\n",
        "    image_name = 'IMG' + '_' + str(y) + '_' + str(x)\n",
        "\n",
        "    #Create and save the image file\n",
        "    cv2.imwrite(\"/content/gdrive/My Drive/Google Colab Folder/TNT_Project/sliced_labeled_images/\" + image_name + \".png\", region)\n"
      ],
      "metadata": {
        "id": "VqXJ5FP36l9P"
      },
      "execution_count": 11,
      "outputs": []
    },
    {
      "cell_type": "code",
      "source": [
        "#Step 2: Identify if there is tnt tube (yellow pixel) on the labeled image and update file name"
      ],
      "metadata": {
        "id": "INqABuB3ontg"
      },
      "execution_count": 12,
      "outputs": []
    },
    {
      "cell_type": "code",
      "source": [
        "folder_path = '/content/gdrive/My Drive/Google Colab Folder/TNT_Project/sliced_labeled_images/'\n",
        "folder_path_unlabeled = '/content/gdrive/My Drive/Google Colab Folder/TNT_Project/sliced_unlabeled_images/'"
      ],
      "metadata": {
        "id": "8teSo1w1Sdrf"
      },
      "execution_count": 13,
      "outputs": []
    },
    {
      "cell_type": "code",
      "source": [
        "lower_bound = np.array([0,100,100])  #lower bound BGR values for color\n",
        "upper_bound = np.array([50,255,255]) #upper bound BGR values for color\n",
        "\n",
        "#list all file names and create a mask for the target color\n",
        "for f in os.listdir(folder_path):\n",
        "  img_labeled_file = cv2.imread(folder_path +f)\n",
        "  tnt_mask = cv2.inRange(img_labeled_file,lower_bound,upper_bound)\n",
        "\n",
        "  # Count the number of color pixels\n",
        "  color_pixel_count = cv2.countNonZero(tnt_mask)\n",
        "\n",
        "  if color_pixel_count <= 50 and 'Class_0_' not in f:\n",
        "    #rename file name\n",
        "    #f_new = f.replace ('.png','_tnt_0.png')\n",
        "    f_new = 'Class_0_' + f\n",
        "    os.rename (folder_path + f,folder_path + f_new)\n",
        "    os.rename (folder_path_unlabeled + f,folder_path_unlabeled + f_new)\n",
        "    folder_path_unlabeled\n",
        "  elif color_pixel_count > 50 and 'Class_1_' not in f:\n",
        "    #rename file name\n",
        "    #f_new = f.replace ('.png','_tnt_1.png')\n",
        "    f_new = 'Class_1_' + f\n",
        "    os.rename (folder_path + f,folder_path + f_new)\n",
        "    os.rename (folder_path_unlabeled + f,folder_path_unlabeled + f_new)"
      ],
      "metadata": {
        "id": "znsjugU4MuK6"
      },
      "execution_count": 17,
      "outputs": []
    },
    {
      "cell_type": "code",
      "source": [
        "# Step 3: Build a model"
      ],
      "metadata": {
        "id": "_ZERFpSqpAmh"
      },
      "execution_count": 16,
      "outputs": []
    },
    {
      "cell_type": "code",
      "source": [
        "import keras\n",
        "from keras.models import Sequential\n",
        "from keras.layers import Dense\n",
        "from keras.applications import VGG16"
      ],
      "metadata": {
        "id": "FYL5lQCTt12q"
      },
      "execution_count": 18,
      "outputs": []
    },
    {
      "cell_type": "code",
      "source": [
        "#Step 3.1 Load pre-trained VGG16 model"
      ],
      "metadata": {
        "id": "N2m_Fg379DV1"
      },
      "execution_count": 19,
      "outputs": []
    },
    {
      "cell_type": "code",
      "source": [
        "base_model = keras.applications.vgg16.VGG16()"
      ],
      "metadata": {
        "id": "zZK3yprQ9I1O",
        "colab": {
          "base_uri": "https://localhost:8080/"
        },
        "outputId": "3941db63-aa16-42f2-aced-ee5347af925f"
      },
      "execution_count": 20,
      "outputs": [
        {
          "output_type": "stream",
          "name": "stdout",
          "text": [
            "Downloading data from https://storage.googleapis.com/tensorflow/keras-applications/vgg16/vgg16_weights_tf_dim_ordering_tf_kernels.h5\n",
            "553467096/553467096 [==============================] - 18s 0us/step\n"
          ]
        }
      ]
    },
    {
      "cell_type": "code",
      "source": [
        "# Step 3.2 Create a sequential model\n",
        "tnt_model = Sequential()"
      ],
      "metadata": {
        "id": "uM5k2ffeuY_X"
      },
      "execution_count": 21,
      "outputs": []
    },
    {
      "cell_type": "code",
      "source": [
        "# Step 3.3 Remove prediction layer\n",
        "pred_layer = base_model.layers[-1]\n",
        "\n",
        "for layer in base_model.layers:\n",
        "  try:\n",
        "    if layer != pred_layer:\n",
        "      tnt_model.add(layer)\n",
        "  except TypeError as e:\n",
        "    print(e)\n",
        "\n",
        "# Step 3.4 Freeze layers to cut down on computational time for training\n",
        "for layer in tnt_model.layers:\n",
        "  layer.trainable = False"
      ],
      "metadata": {
        "id": "JAEcfiZX0Smf"
      },
      "execution_count": 22,
      "outputs": []
    },
    {
      "cell_type": "code",
      "source": [
        "  # Step 3.5 Add a new output layer\n",
        "  tnt_model.add(Dense(1,activation='sigmoid'))"
      ],
      "metadata": {
        "id": "cYmvhY-_jKvy"
      },
      "execution_count": 23,
      "outputs": []
    },
    {
      "cell_type": "code",
      "source": [
        "# Step 3.6 Compile the network with an adam optimizer and binary cross-entropy loss and compute the accuracy during training\n",
        "tnt_model.compile(optimizer = 'adam', loss = 'binary_crossentropy', metrics = 'accuracy')"
      ],
      "metadata": {
        "id": "i_Pxe3c9ja8q"
      },
      "execution_count": 37,
      "outputs": []
    },
    {
      "cell_type": "code",
      "source": [
        "from keras.preprocessing.image import ImageDataGenerator"
      ],
      "metadata": {
        "id": "WkjElflWjuhK"
      },
      "execution_count": 25,
      "outputs": []
    },
    {
      "cell_type": "code",
      "source": [
        "file_path = '/content/gdrive/My Drive/Google Colab Folder/TNT_Project/sliced_unlabeled_images/train'\n",
        "file_path_validation = '/content/gdrive/My Drive/Google Colab Folder/TNT_Project/sliced_unlabeled_images/validation'\n",
        "\n",
        "# Create an instance of ImageDataGenerator\n",
        "traindatagen = ImageDataGenerator(rescale = 1./255,\n",
        "                                         shear_range = 0.2,\n",
        "                                         zoom_range = 0.2,\n",
        "                                         horizontal_flip = True,\n",
        "                                         rotation_range = 40)\n",
        "\n",
        "# Load and preprocess the training dataset\n",
        "train_generator = traindatagen.flow_from_directory(\n",
        "    file_path,\n",
        "    target_size = (224,224),\n",
        "    batch_size = 32,\n",
        "    class_mode = 'binary'\n",
        ")\n",
        "\n",
        "validationdatagen = ImageDataGenerator(rescale = 1./255,\n",
        "                                         shear_range = 0.2,\n",
        "                                         zoom_range = 0.2,\n",
        "                                         horizontal_flip = True,\n",
        "                                         rotation_range = 40)\n",
        "\n",
        "# Load and preprocess the training dataset\n",
        "validation_generator = validationdatagen.flow_from_directory(\n",
        "    file_path_validation,\n",
        "    target_size = (224,224),\n",
        "    batch_size = 32,\n",
        "    class_mode = 'binary'\n",
        ")\n"
      ],
      "metadata": {
        "colab": {
          "base_uri": "https://localhost:8080/"
        },
        "id": "mc7eLDLAzia1",
        "outputId": "1451c65f-d903-4706-cb95-ac73e7ff3078"
      },
      "execution_count": 38,
      "outputs": [
        {
          "output_type": "stream",
          "name": "stdout",
          "text": [
            "Found 103 images belonging to 2 classes.\n",
            "Found 27 images belonging to 2 classes.\n"
          ]
        }
      ]
    },
    {
      "cell_type": "code",
      "source": [
        "#Fit the classifier\n",
        "\n",
        "STEP_SIZE_TRAIN = train_generator.n //train_generator.batch_size\n",
        "STEP_SIZE_VALIDATION = validation_generator.n // validation_generator.batch_size"
      ],
      "metadata": {
        "id": "4hYBrL--VBrt"
      },
      "execution_count": 39,
      "outputs": []
    },
    {
      "cell_type": "code",
      "source": [
        "# Train the model\n",
        "\n",
        "history = tnt_model.fit(train_generator,\n",
        "          steps_per_epoch = 2,\n",
        "          epochs =5,\n",
        "          validation_data = validation_generator,\n",
        "          validation_steps = STEP_SIZE_VALIDATION)"
      ],
      "metadata": {
        "id": "PnVPXwDzu4PQ",
        "colab": {
          "base_uri": "https://localhost:8080/"
        },
        "outputId": "1a1f59b5-4fc1-412f-d341-1836b34d3586"
      },
      "execution_count": 40,
      "outputs": [
        {
          "output_type": "stream",
          "name": "stdout",
          "text": [
            "Epoch 1/5\n",
            "2/2 [==============================] - 51s 24s/step - loss: 0.5827 - accuracy: 0.7656\n",
            "Epoch 2/5\n",
            "2/2 [==============================] - 27s 20s/step - loss: 0.5764 - accuracy: 0.7692\n",
            "Epoch 3/5\n",
            "2/2 [==============================] - 46s 20s/step - loss: 0.6194 - accuracy: 0.7188\n",
            "Epoch 4/5\n",
            "2/2 [==============================] - 32s 6s/step - loss: 0.5958 - accuracy: 0.7949\n",
            "Epoch 5/5\n",
            "2/2 [==============================] - 27s 6s/step - loss: 0.6015 - accuracy: 0.7179\n"
          ]
        }
      ]
    },
    {
      "cell_type": "code",
      "source": [
        "label_map = dict((v,k) for k,v in train_generator.class_indices.items())"
      ],
      "metadata": {
        "id": "k2FVmfUoVls3"
      },
      "execution_count": 41,
      "outputs": []
    },
    {
      "cell_type": "code",
      "source": [
        "label_map"
      ],
      "metadata": {
        "colab": {
          "base_uri": "https://localhost:8080/"
        },
        "id": "jYNcPYUuXbfM",
        "outputId": "2d8e8a84-6306-4926-ea54-b0c40a651f83"
      },
      "execution_count": 42,
      "outputs": [
        {
          "output_type": "execute_result",
          "data": {
            "text/plain": [
              "{0: '0', 1: '1'}"
            ]
          },
          "metadata": {},
          "execution_count": 42
        }
      ]
    },
    {
      "cell_type": "code",
      "source": [
        "from keras.preprocessing import image\n",
        "import keras.utils as image"
      ],
      "metadata": {
        "id": "kSjdQe6sYvgy"
      },
      "execution_count": 47,
      "outputs": []
    },
    {
      "cell_type": "code",
      "source": [
        "new_image = image.load_img('/content/gdrive/My Drive/Google Colab Folder/TNT_Project/sliced_unlabeled_images/IMG_1024_1024_tnt_1.png', target_size = (224, 224))\n",
        "new_image"
      ],
      "metadata": {
        "colab": {
          "base_uri": "https://localhost:8080/",
          "height": 241
        },
        "id": "skyyY8EhX5kj",
        "outputId": "2115f16d-0c96-461c-a185-1e3fd9d81cc7"
      },
      "execution_count": 52,
      "outputs": [
        {
          "output_type": "execute_result",
          "data": {
            "text/plain": [
              "<PIL.Image.Image image mode=RGB size=224x224>"
            ],
            "image/png": "[encoded data removed]"
          },
          "metadata": {},
          "execution_count": 52
        }
      ]
    },
    {
      "cell_type": "code",
      "source": [
        "new_image = image.img_to_array(new_image)\n",
        "\n",
        "new_image = np.expand_dims(new_image, axis = 0)\n",
        "# reshape data for the model\n",
        "#transformed_image = transformed_image.reshape((1, transformed_image.shape[0], transformed_image.shape[1], transformed_image.shape[2]))\n",
        "\n",
        "result = tnt_model.predict(new_image)"
      ],
      "metadata": {
        "colab": {
          "base_uri": "https://localhost:8080/"
        },
        "id": "6NHv1uFkXcuj",
        "outputId": "0acdbde6-fe7b-4ccf-df09-17c28c92b0bd"
      },
      "execution_count": 53,
      "outputs": [
        {
          "output_type": "stream",
          "name": "stdout",
          "text": [
            "1/1 [==============================] - 1s 632ms/step\n"
          ]
        }
      ]
    },
    {
      "cell_type": "code",
      "source": [
        "if result[0][0] > 0.5:\n",
        "\n",
        "    prediction = 'TNT'\n",
        "\n",
        "else:\n",
        "\n",
        "    prediction = 'No TNT'\n",
        "\n",
        "print(prediction)"
      ],
      "metadata": {
        "colab": {
          "base_uri": "https://localhost:8080/"
        },
        "id": "Q6nnSMSwX0r8",
        "outputId": "62625bbc-e39b-4b22-a236-8ed427ccc48b"
      },
      "execution_count": 54,
      "outputs": [
        {
          "output_type": "stream",
          "name": "stdout",
          "text": [
            "TNT\n"
          ]
        }
      ]
    },
    {
      "cell_type": "code",
      "source": [],
      "metadata": {
        "id": "_9eXYzgqYy3y"
      },
      "execution_count": null,
      "outputs": []
    }
  ]
}